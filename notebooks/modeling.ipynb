{
 "cells": [
  {
   "cell_type": "markdown",
   "metadata": {},
   "source": [
    "# BPM Prediction Modeling\n",
    "\n",
    "This notebook focuses on building and evaluating machine learning models for predicting the Beats Per Minute (BPM) of songs using the engineered features created in the exploratory data analysis (EDA) notebook."
   ]
  },
  {
   "cell_type": "code",
   "execution_count": 1,
   "metadata": {
    "id": "import-libraries"
   },
   "outputs": [],
   "source": [
    "# Import necessary libraries\n",
    "import pandas as pd\n",
    "import numpy as np\n",
    "from sklearn.model_selection import train_test_split\n",
    "from sklearn.linear_model import Lasso\n",
    "from sklearn.ensemble import RandomForestRegressor\n",
    "from sklearn.metrics import mean_squared_error, r2_score\n",
    "import matplotlib.pyplot as plt\n",
    "import seaborn as sns\n",
    "\n",
    "# Set visualization style\n",
    "sns.set(style='whitegrid')"
   ]
  },
  {
   "cell_type": "code",
   "execution_count": 3,
   "metadata": {
    "id": "load-data"
   },
   "outputs": [
    {
     "name": "stdout",
     "output_type": "stream",
     "text": [
      "Training data shape: (10, 14)\n",
      "Test data shape: (10, 10)\n",
      "\n",
      "Training data columns:\n",
      "['id', 'title', 'artist', 'album', 'track_duration_ms', 'audio_loudness', 'energy', 'rhythm_score', 'vocal_content', 'instrumental_score', 'acoustic_quality', 'mood_score', 'live_performance_likelihood', 'beats_per_minute']\n",
      "\n",
      "Test data columns:\n",
      "['id', 'audio_loudness', 'vocal_content', 'acoustic_quality', 'instrumental_score', 'live_performance_likelihood', 'mood_score', 'energy', 'rhythm_score', 'track_duration_ms']\n"
     ]
    },
    {
     "data": {
      "text/html": [
       "<div>\n",
       "<style scoped>\n",
       "    .dataframe tbody tr th:only-of-type {\n",
       "        vertical-align: middle;\n",
       "    }\n",
       "\n",
       "    .dataframe tbody tr th {\n",
       "        vertical-align: top;\n",
       "    }\n",
       "\n",
       "    .dataframe thead th {\n",
       "        text-align: right;\n",
       "    }\n",
       "</style>\n",
       "<table border=\"1\" class=\"dataframe\">\n",
       "  <thead>\n",
       "    <tr style=\"text-align: right;\">\n",
       "      <th></th>\n",
       "      <th>id</th>\n",
       "      <th>title</th>\n",
       "      <th>artist</th>\n",
       "      <th>album</th>\n",
       "      <th>track_duration_ms</th>\n",
       "      <th>audio_loudness</th>\n",
       "      <th>energy</th>\n",
       "      <th>rhythm_score</th>\n",
       "      <th>vocal_content</th>\n",
       "      <th>instrumental_score</th>\n",
       "      <th>acoustic_quality</th>\n",
       "      <th>mood_score</th>\n",
       "      <th>live_performance_likelihood</th>\n",
       "      <th>beats_per_minute</th>\n",
       "    </tr>\n",
       "  </thead>\n",
       "  <tbody>\n",
       "    <tr>\n",
       "      <th>0</th>\n",
       "      <td>1</td>\n",
       "      <td>Song A</td>\n",
       "      <td>Artist 1</td>\n",
       "      <td>Album 1</td>\n",
       "      <td>240000</td>\n",
       "      <td>-8.5</td>\n",
       "      <td>0.70</td>\n",
       "      <td>0.60</td>\n",
       "      <td>0.10</td>\n",
       "      <td>0.20</td>\n",
       "      <td>0.50</td>\n",
       "      <td>0.60</td>\n",
       "      <td>0.30</td>\n",
       "      <td>120.0</td>\n",
       "    </tr>\n",
       "    <tr>\n",
       "      <th>1</th>\n",
       "      <td>2</td>\n",
       "      <td>Song B</td>\n",
       "      <td>Artist 2</td>\n",
       "      <td>Album 2</td>\n",
       "      <td>180000</td>\n",
       "      <td>-6.0</td>\n",
       "      <td>0.80</td>\n",
       "      <td>0.70</td>\n",
       "      <td>0.20</td>\n",
       "      <td>0.10</td>\n",
       "      <td>0.40</td>\n",
       "      <td>0.50</td>\n",
       "      <td>0.40</td>\n",
       "      <td>130.0</td>\n",
       "    </tr>\n",
       "    <tr>\n",
       "      <th>2</th>\n",
       "      <td>3</td>\n",
       "      <td>Song C</td>\n",
       "      <td>Artist 3</td>\n",
       "      <td>Album 3</td>\n",
       "      <td>300000</td>\n",
       "      <td>-10.0</td>\n",
       "      <td>0.50</td>\n",
       "      <td>0.50</td>\n",
       "      <td>0.05</td>\n",
       "      <td>0.30</td>\n",
       "      <td>0.60</td>\n",
       "      <td>0.70</td>\n",
       "      <td>0.20</td>\n",
       "      <td>110.0</td>\n",
       "    </tr>\n",
       "    <tr>\n",
       "      <th>3</th>\n",
       "      <td>4</td>\n",
       "      <td>Song D</td>\n",
       "      <td>Artist 4</td>\n",
       "      <td>Album 4</td>\n",
       "      <td>210000</td>\n",
       "      <td>-7.5</td>\n",
       "      <td>0.60</td>\n",
       "      <td>0.40</td>\n",
       "      <td>0.15</td>\n",
       "      <td>0.25</td>\n",
       "      <td>0.30</td>\n",
       "      <td>0.40</td>\n",
       "      <td>0.50</td>\n",
       "      <td>115.0</td>\n",
       "    </tr>\n",
       "    <tr>\n",
       "      <th>4</th>\n",
       "      <td>5</td>\n",
       "      <td>Song E</td>\n",
       "      <td>Artist 5</td>\n",
       "      <td>Album 5</td>\n",
       "      <td>240000</td>\n",
       "      <td>-9.0</td>\n",
       "      <td>0.65</td>\n",
       "      <td>0.55</td>\n",
       "      <td>0.10</td>\n",
       "      <td>0.15</td>\n",
       "      <td>0.45</td>\n",
       "      <td>0.55</td>\n",
       "      <td>0.35</td>\n",
       "      <td>125.0</td>\n",
       "    </tr>\n",
       "  </tbody>\n",
       "</table>\n",
       "</div>"
      ],
      "text/plain": [
       "   id   title    artist    album  track_duration_ms  audio_loudness  energy  \\\n",
       "0   1  Song A  Artist 1  Album 1             240000            -8.5    0.70   \n",
       "1   2  Song B  Artist 2  Album 2             180000            -6.0    0.80   \n",
       "2   3  Song C  Artist 3  Album 3             300000           -10.0    0.50   \n",
       "3   4  Song D  Artist 4  Album 4             210000            -7.5    0.60   \n",
       "4   5  Song E  Artist 5  Album 5             240000            -9.0    0.65   \n",
       "\n",
       "   rhythm_score  vocal_content  instrumental_score  acoustic_quality  \\\n",
       "0          0.60           0.10                0.20              0.50   \n",
       "1          0.70           0.20                0.10              0.40   \n",
       "2          0.50           0.05                0.30              0.60   \n",
       "3          0.40           0.15                0.25              0.30   \n",
       "4          0.55           0.10                0.15              0.45   \n",
       "\n",
       "   mood_score  live_performance_likelihood  beats_per_minute  \n",
       "0        0.60                         0.30             120.0  \n",
       "1        0.50                         0.40             130.0  \n",
       "2        0.70                         0.20             110.0  \n",
       "3        0.40                         0.50             115.0  \n",
       "4        0.55                         0.35             125.0  "
      ]
     },
     "execution_count": 3,
     "metadata": {},
     "output_type": "execute_result"
    }
   ],
   "source": [
    "# Load the training and test datasets\n",
    "train_df = pd.read_csv('../data/train.csv')\n",
    "test_df = pd.read_csv('../data/test.csv', comment='#')\n",
    "\n",
    "# Standardize column names to match the expected format\n",
    "# Map test columns to train column format\n",
    "test_column_mapping = {\n",
    "    'AudioLoudness': 'audio_loudness',\n",
    "    'VocalContent': 'vocal_content', \n",
    "    'AcousticQuality': 'acoustic_quality',\n",
    "    'InstrumentalScore': 'instrumental_score',\n",
    "    'LivePerformanceLikelihood': 'live_performance_likelihood',\n",
    "    'MoodScore': 'mood_score',\n",
    "    'Energy': 'energy',\n",
    "    'RhythmScore': 'rhythm_score',\n",
    "    'TrackDurationMs': 'track_duration_ms'\n",
    "}\n",
    "\n",
    "# Rename test columns to match train format\n",
    "test_df = test_df.rename(columns=test_column_mapping)\n",
    "\n",
    "# Display the first few rows of the training dataset\n",
    "print(\"Training data shape:\", train_df.shape)\n",
    "print(\"Test data shape:\", test_df.shape)\n",
    "print(\"\\nTraining data columns:\")\n",
    "print(train_df.columns.tolist())\n",
    "print(\"\\nTest data columns:\")\n",
    "print(test_df.columns.tolist())\n",
    "train_df.head()"
   ]
  },
  {
   "cell_type": "code",
   "execution_count": null,
   "metadata": {
    "id": "feature-engineering"
   },
   "outputs": [],
   "source": [
    "# Feature engineering (assuming features have been engineered in the EDA notebook)\n",
    "# Here you would typically call your feature engineering functions from src/feature_engineering.py\n",
    "# For example:\n",
    "# from src.feature_engineering import engineer_features\n",
    "# train_fe = engineer_features(train_df)\n",
    "# test_fe = engineer_features(test_df)\n"
   ]
  },
  {
   "cell_type": "code",
   "execution_count": 4,
   "metadata": {
    "id": "train-test-split"
   },
   "outputs": [
    {
     "name": "stdout",
     "output_type": "stream",
     "text": [
      "Feature columns: ['track_duration_ms', 'audio_loudness', 'energy', 'rhythm_score', 'vocal_content', 'instrumental_score', 'acoustic_quality', 'mood_score', 'live_performance_likelihood']\n",
      "X shape: (10, 9)\n",
      "y shape: (10,)\n",
      "Training set shape: (8, 9)\n",
      "Validation set shape: (2, 9)\n"
     ]
    }
   ],
   "source": [
    "# Split the training data into features and target variable\n",
    "# Exclude non-feature columns\n",
    "non_feature_cols = ['id', 'title', 'artist', 'album', 'beats_per_minute']\n",
    "feature_cols = [col for col in train_df.columns if col not in non_feature_cols]\n",
    "\n",
    "X = train_df[feature_cols]\n",
    "y = train_df['beats_per_minute']\n",
    "\n",
    "print(\"Feature columns:\", feature_cols)\n",
    "print(\"X shape:\", X.shape)\n",
    "print(\"y shape:\", y.shape)\n",
    "\n",
    "# Split the data into training and validation sets\n",
    "X_train, X_val, y_train, y_val = train_test_split(X, y, test_size=0.2, random_state=42)\n",
    "\n",
    "print(\"Training set shape:\", X_train.shape)\n",
    "print(\"Validation set shape:\", X_val.shape)"
   ]
  },
  {
   "cell_type": "code",
   "execution_count": 5,
   "metadata": {
    "id": "model-training"
   },
   "outputs": [
    {
     "name": "stdout",
     "output_type": "stream",
     "text": [
      "Validation RMSE: 8.92\n",
      "Validation R²: 0.20\n"
     ]
    }
   ],
   "source": [
    "# Train a Lasso regression model\n",
    "lasso_model = Lasso(alpha=0.1)\n",
    "lasso_model.fit(X_train, y_train)\n",
    "\n",
    "# Validate the model\n",
    "y_val_pred = lasso_model.predict(X_val)\n",
    "\n",
    "# Calculate metrics\n",
    "rmse = np.sqrt(mean_squared_error(y_val, y_val_pred))\n",
    "r2 = r2_score(y_val, y_val_pred)\n",
    "\n",
    "# Display the results\n",
    "print(f'Validation RMSE: {rmse:.2f}')\n",
    "print(f'Validation R²: {r2:.2f}')"
   ]
  },
  {
   "cell_type": "code",
   "execution_count": 6,
   "metadata": {
    "id": "model-evaluation"
   },
   "outputs": [
    {
     "data": {
      "image/png": "[encoded data removed]",
      "text/plain": [
       "<Figure size 1000x600 with 1 Axes>"
      ]
     },
     "metadata": {},
     "output_type": "display_data"
    }
   ],
   "source": [
    "# Visualize the predictions vs actual values\n",
    "plt.figure(figsize=(10, 6))\n",
    "plt.scatter(y_val, y_val_pred, alpha=0.6)\n",
    "plt.plot([y_val.min(), y_val.max()], [y_val.min(), y_val.max()], 'k--', lw=2)\n",
    "plt.xlabel('Actual BPM')\n",
    "plt.ylabel('Predicted BPM')\n",
    "plt.title('Actual vs Predicted BPM')\n",
    "plt.show()"
   ]
  },
  {
   "cell_type": "code",
   "execution_count": 7,
   "metadata": {
    "id": "final-predictions"
   },
   "outputs": [
    {
     "name": "stdout",
     "output_type": "stream",
     "text": [
      "Test features shape: (10, 9)\n",
      "Predictions:\n",
      "       id  BeatsPerMinute\n",
      "0  524165      128.972145\n",
      "1  524166      136.316963\n",
      "2  524167      118.481419\n",
      "3  524168      142.311039\n",
      "4  524169      139.917968\n",
      "5  524170      135.656019\n",
      "6  524171      125.494794\n",
      "7  524172      132.839612\n",
      "8  524173      130.083337\n",
      "9  524174      135.627165\n",
      "\n",
      "Submission file saved to ../data/submission.csv\n"
     ]
    }
   ],
   "source": [
    "# Make predictions on the test set\n",
    "# Use the same feature columns as training\n",
    "test_features = test_df[feature_cols]\n",
    "print(\"Test features shape:\", test_features.shape)\n",
    "\n",
    "# Make predictions\n",
    "y_test_pred = lasso_model.predict(test_features)\n",
    "\n",
    "# Save predictions to submission file\n",
    "submission = pd.DataFrame({\n",
    "    'id': test_df['id'], \n",
    "    'BeatsPerMinute': y_test_pred\n",
    "})\n",
    "\n",
    "print(\"Predictions:\")\n",
    "print(submission)\n",
    "\n",
    "# Save to file\n",
    "submission.to_csv('../data/submission.csv', index=False)\n",
    "print(\"\\nSubmission file saved to ../data/submission.csv\")"
   ]
  }
 ],
 "metadata": {
  "kernelspec": {
   "display_name": ".venv",
   "language": "python",
   "name": "python3"
  },
  "language_info": {
   "codemirror_mode": {
    "name": "ipython",
    "version": 3
   },
   "file_extension": ".py",
   "mimetype": "text/x-python",
   "name": "python",
   "nbconvert_exporter": "python",
   "pygments_lexer": "ipython3",
   "version": "3.12.3"
  }
 },
 "nbformat": 4,
 "nbformat_minor": 4
}
