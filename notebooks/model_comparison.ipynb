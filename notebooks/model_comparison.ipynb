{
 "cells": [
  {
   "cell_type": "markdown",
   "id": "903e966b",
   "metadata": {},
   "source": [
    "# Model Comparison: Predicting Beats-per-Minute (BPM)\n",
    "\n",
    "This notebook trains and compares several regression models (Random Forest, XGBoost if available, and MLP) for predicting song BPM. It prefers processed CSVs in `data/processed/` and falls back to `data/raw/`. It will attempt to reuse `src.data_preprocessing` and `src.feature_engineering` if present; otherwise it uses a safe numeric-only preprocessing fallback.\n",
    "\n",
    "Open the notebook and run cells top-to-bottom. The notebook is runnable in a Python 3 kernel."
   ]
  },
  {
   "cell_type": "code",
   "execution_count": 1,
   "id": "3b419773",
   "metadata": {},
   "outputs": [
    {
     "name": "stdout",
     "output_type": "stream",
     "text": [
      "Imports ok\n",
      "Helpers ready\n"
     ]
    }
   ],
   "source": [
    "# Imports and utilities\n",
    "import os\n",
    "import warnings\n",
    "warnings.filterwarnings('ignore')\n",
    "import pandas as pd\n",
    "import numpy as np\n",
    "from pathlib import Path\n",
    "from sklearn.model_selection import train_test_split\n",
    "from sklearn.ensemble import RandomForestRegressor\n",
    "from sklearn.neural_network import MLPRegressor\n",
    "from sklearn.metrics import mean_absolute_error, r2_score\n",
    "import matplotlib.pyplot as plt\n",
    "\n",
    "print('Imports ok')\n",
    "\n",
    "# Robust loader that prefers processed files\n",
    "def load_csv(preferred_path: str, fallback_path: str) -> pd.DataFrame:\n",
    "    if Path(preferred_path).exists():\n",
    "        print(f'Loading {preferred_path}')\n",
    "        return pd.read_csv(preferred_path)\n",
    "    if Path(fallback_path).exists():\n",
    "        print(f'Loading fallback {fallback_path}')\n",
    "        return pd.read_csv(fallback_path)\n",
    "    raise FileNotFoundError(f'Neither {preferred_path} nor {fallback_path} exist')\n",
    "\n",
    "# Small helper to ensure numeric-only features and align columns\n",
    "def prepare_numeric(X: pd.DataFrame, ref_columns=None) -> pd.DataFrame:\n",
    "    X_num = X.select_dtypes(include=[np.number]).copy()\n",
    "    X_num = X_num.fillna(0)\n",
    "    if ref_columns is not None:\n",
    "        X_num = X_num.reindex(columns=ref_columns, fill_value=0)\n",
    "    return X_num\n",
    "\n",
    "print('Helpers ready')\n"
   ]
  },
  {
   "cell_type": "code",
   "execution_count": 5,
   "id": "abb89d64",
   "metadata": {},
   "outputs": [
    {
     "name": "stdout",
     "output_type": "stream",
     "text": [
      "Changed cwd to /home/dobercode/Predicting-the-Beats-per-Minute-of-Songs\n"
     ]
    }
   ],
   "source": [
    "# Ensure working directory is the repository root so relative data paths work\n",
    "from pathlib import Path\n",
    "ROOT = Path('/home/dobercode/Predicting-the-Beats-per-Minute-of-Songs')\n",
    "import os\n",
    "os.chdir(ROOT)\n",
    "print('Changed cwd to', Path.cwd())\n"
   ]
  },
  {
   "cell_type": "code",
   "execution_count": 7,
   "id": "88dd72aa",
   "metadata": {},
   "outputs": [
    {
     "name": "stdout",
     "output_type": "stream",
     "text": [
      "Loading data/processed/train_experimental.csv\n",
      "Loading data/processed/test_experimental.csv\n",
      "train shape: (10, 53) test shape: (10, 49)\n",
      "Using project preprocess/feature functions\n",
      "Preprocessing complete. X_train shape: (10, 52)\n"
     ]
    }
   ],
   "source": [
    "# Load datasets (prefer processed)\n",
    "try:\n",
    "    train_df = load_csv('data/processed/train_experimental.csv', 'data/raw/train.csv')\n",
    "    test_df = load_csv('data/processed/test_experimental.csv', 'data/raw/test.csv')\n",
    "except Exception as e:\n",
    "    print('Primary paths not found, trying raw-only:', e)\n",
    "    train_df = load_csv('data/raw/train.csv', 'data/raw/train.csv')\n",
    "    test_df = load_csv('data/raw/test.csv', 'data/raw/test.csv')\n",
    "\n",
    "print('train shape:', train_df.shape, 'test shape:', test_df.shape)\n",
    "\n",
    "# Try using project-specific preprocessing/feature engineering\n",
    "X_train = None\n",
    "X_test = None\n",
    "y_train = None\n",
    "y_test = None\n",
    "\n",
    "try:\n",
    "    from src.data_preprocessing import preprocess_data\n",
    "    from src.feature_engineering import engineer_features\n",
    "    print('Using project preprocess/feature functions')\n",
    "    # Some projects return a single dataframe or different shapes. Try common patterns.\n",
    "    out = preprocess_data(train_df)\n",
    "    if isinstance(out, tuple) and len(out) == 2:\n",
    "        X_train, y_train = out\n",
    "    else:\n",
    "        # assume preprocess_data returned a dataframe with target column\n",
    "        if 'beats_per_minute' in out.columns:\n",
    "            y_train = out['beats_per_minute'].values\n",
    "            X_train = out.drop(columns=['beats_per_minute'])\n",
    "        else:\n",
    "            X_train = out\n",
    "            y_train = None\n",
    "\n",
    "    out2 = preprocess_data(test_df)\n",
    "    if isinstance(out2, tuple) and len(out2) == 2:\n",
    "        X_test, y_test = out2\n",
    "    else:\n",
    "        if 'beats_per_minute' in out2.columns:\n",
    "            y_test = out2['beats_per_minute'].values\n",
    "            X_test = out2.drop(columns=['beats_per_minute'])\n",
    "        else:\n",
    "            X_test = out2\n",
    "            y_test = None\n",
    "\n",
    "    # Apply feature engineering if available and if Xs exist\n",
    "    if X_train is not None:\n",
    "        try:\n",
    "            X_train = engineer_features(X_train)\n",
    "        except Exception:\n",
    "            pass\n",
    "    if X_test is not None:\n",
    "        try:\n",
    "            X_test = engineer_features(X_test)\n",
    "        except Exception:\n",
    "            pass\n",
    "\n",
    "except Exception as e:\n",
    "    print('Project preprocess/feature not used:', e)\n",
    "    # Fallback: simple numeric-only preprocessing and look for target column names\n",
    "    df = train_df.copy()\n",
    "    target_col = None\n",
    "    for candidate in ['beats_per_minute','bpm', 'tempo', 'BPM', 'Tempo']:\n",
    "        if candidate in df.columns:\n",
    "            target_col = candidate\n",
    "            break\n",
    "    if target_col is None:\n",
    "        # try fuzzy match\n",
    "        possible = [c for c in df.columns if 'bpm' in c.lower() or 'tempo' in c.lower()]\n",
    "        if possible:\n",
    "            target_col = possible[0]\n",
    "    if target_col is None:\n",
    "        raise RuntimeError('No target column found in training data; please provide preprocess functions or include a beats_per_minute/bpm/tempo column.')\n",
    "\n",
    "    y_train = df[target_col].values\n",
    "    X_train = df.drop(columns=[target_col])\n",
    "\n",
    "    df2 = test_df.copy()\n",
    "    if target_col in df2.columns:\n",
    "        y_test = df2[target_col].values\n",
    "        X_test = df2.drop(columns=[target_col])\n",
    "    else:\n",
    "        # We'll create a validation split from train later\n",
    "        X_test = None\n",
    "        y_test = None\n",
    "\n",
    "    X_train = prepare_numeric(X_train)\n",
    "    if X_test is not None:\n",
    "        X_test = prepare_numeric(X_test, ref_columns=X_train.columns)\n",
    "\n",
    "print('Preprocessing complete. X_train shape:', X_train.shape)\n"
   ]
  },
  {
   "cell_type": "code",
   "execution_count": 12,
   "id": "ac78375e",
   "metadata": {},
   "outputs": [
    {
     "name": "stdout",
     "output_type": "stream",
     "text": [
      "Training on (8, 49) validating on (2, 49)\n",
      "Random Forest trained\n",
      "XGBoost trained\n",
      "MLP trained\n",
      "XGBoost trained\n",
      "MLP trained\n"
     ]
    }
   ],
   "source": [
    "# Train/validation split\n",
    "if y_test is None:\n",
    "    X_tr, X_val, y_tr, y_val = train_test_split(X_train, y_train, test_size=0.2, random_state=42)\n",
    "else:\n",
    "    X_tr, y_tr = X_train, y_train\n",
    "    X_val, y_val = X_test, y_test\n",
    "\n",
    "# Ensure numeric-only features and align columns\n",
    "X_tr = prepare_numeric(X_tr)\n",
    "X_val = prepare_numeric(X_val, ref_columns=X_tr.columns)\n",
    "\n",
    "# Ensure targets are numeric arrays\n",
    "y_tr = np.asarray(y_tr, dtype=float)\n",
    "y_val = np.asarray(y_val, dtype=float)\n",
    "\n",
    "print('Training on', X_tr.shape, 'validating on', X_val.shape)\n",
    "\n",
    "# Train Random Forest\n",
    "rf = RandomForestRegressor(n_estimators=100, random_state=42, n_jobs=-1)\n",
    "rf.fit(X_tr, y_tr)\n",
    "print('Random Forest trained')\n",
    "\n",
    "# Train XGBoost if available\n",
    "xgb_model = None\n",
    "try:\n",
    "    import xgboost as xgb\n",
    "    xgb_model = xgb.XGBRegressor(random_state=42, n_jobs=-1, verbosity=0)\n",
    "    xgb_model.fit(X_tr, y_tr)\n",
    "    print('XGBoost trained')\n",
    "except Exception as e:\n",
    "    print('XGBoost not available or failed:', e)\n",
    "\n",
    "# Train MLP\n",
    "mlp = MLPRegressor(hidden_layer_sizes=(100,), random_state=42, max_iter=500)\n",
    "mlp.fit(X_tr, y_tr)\n",
    "print('MLP trained')\n"
   ]
  },
  {
   "cell_type": "code",
   "execution_count": 13,
   "id": "9afa7a6a",
   "metadata": {},
   "outputs": [
    {
     "name": "stdout",
     "output_type": "stream",
     "text": [
      "                    MAE        R2\n",
      "Random Forest  0.232125 -0.602572\n",
      "XGBoost        0.129304  0.494085\n",
      "MLP            0.266503 -0.680652\n"
     ]
    },
    {
     "data": {
      "image/png": "[encoded data removed]",
      "text/plain": [
       "<Figure size 1000x500 with 2 Axes>"
      ]
     },
     "metadata": {},
     "output_type": "display_data"
    }
   ],
   "source": [
    "# Evaluation helper and run\n",
    "\n",
    "def evaluate_model(model, X, y):\n",
    "    preds = model.predict(X)\n",
    "    return {\n",
    "        'MAE': mean_absolute_error(y, preds),\n",
    "        'R2': r2_score(y, preds)\n",
    "    }\n",
    "\n",
    "results = {}\n",
    "results['Random Forest'] = evaluate_model(rf, X_val, y_val)\n",
    "if xgb_model is not None:\n",
    "    results['XGBoost'] = evaluate_model(xgb_model, X_val, y_val)\n",
    "results['MLP'] = evaluate_model(mlp, X_val, y_val)\n",
    "\n",
    "results_df = pd.DataFrame(results).T\n",
    "print(results_df)\n",
    "\n",
    "# Plot MAE and R2 (R2 on secondary axis)\n",
    "ax = results_df[['MAE']].plot(kind='bar', figsize=(10,5), legend=False)\n",
    "results_df[['R2']].plot(kind='line', ax=ax, secondary_y=True, marker='o')\n",
    "ax.set_ylabel('MAE')\n",
    "ax.right_ax.set_ylabel('R2')\n",
    "ax.set_title('Model comparison: MAE (bar) and R2 (line)')\n",
    "plt.tight_layout()\n",
    "plt.show()\n"
   ]
  },
  {
   "cell_type": "markdown",
   "id": "5fe4036c",
   "metadata": {},
   "source": [
    "## Next steps and suggestions\n",
    "\n",
    "- Add `xgboost` to `requirements.txt` if you want XGBoost in CI and on other machines.\n",
    "- Add cross-validation and hyperparameter tuning (GridSearchCV or Optuna). \n",
    "- Add SHAP or permutation importances to explain model decisions. \n",
    "- Create a small `predict_bpm.py` script that loads the best model and serves a prediction API (Flask or FastAPI) for demo purposes.\n",
    "- Consider adding an interactive Plotly Dash or Voila dashboard to showcase predictions and explainability."
   ]
  },
  {
   "cell_type": "code",
   "execution_count": 4,
   "id": "d95f4bea",
   "metadata": {},
   "outputs": [
    {
     "name": "stdout",
     "output_type": "stream",
     "text": [
      "Notebook cwd: /home/dobercode/Predicting-the-Beats-per-Minute-of-Songs/notebooks\n",
      "Repo root exists: True\n",
      "data/raw exists: False\n",
      "Listing data/raw:\n",
      "Path checks:\n",
      "data/processed/train_experimental.csv False\n",
      "data/raw/train.csv False\n",
      "/home/dobercode/Predicting-the-Beats-per-Minute-of-Songs/data/raw/train.csv True\n"
     ]
    }
   ],
   "source": [
    "# Diagnostic: check filesystem view from the notebook kernel\n",
    "import os\n",
    "from pathlib import Path\n",
    "print('Notebook cwd:', Path.cwd())\n",
    "print('Repo root exists:', Path('/home/dobercode/Predicting-the-Beats-per-Minute-of-Songs').exists())\n",
    "print('data/raw exists:', Path('data/raw').exists())\n",
    "print('Listing data/raw:')\n",
    "for i, p in enumerate(sorted(Path('data/raw').glob('*'))[:20]):\n",
    "    print(i, p.name, p.stat().st_size)\n",
    "\n",
    "print('Path checks:')\n",
    "for p in ['data/processed/train_experimental.csv','data/raw/train.csv','/home/dobercode/Predicting-the-Beats-per-Minute-of-Songs/data/raw/train.csv']:\n",
    "    print(p, Path(p).exists())\n"
   ]
  }
 ],
 "metadata": {
  "kernelspec": {
   "display_name": ".venv",
   "language": "python",
   "name": "python3"
  },
  "language_info": {
   "codemirror_mode": {
    "name": "ipython",
    "version": 3
   },
   "file_extension": ".py",
   "mimetype": "text/x-python",
   "name": "python",
   "nbconvert_exporter": "python",
   "pygments_lexer": "ipython3",
   "version": "3.11.2"
  }
 },
 "nbformat": 4,
 "nbformat_minor": 5
}
