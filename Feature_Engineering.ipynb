{
 "cells": [
  {
   "cell_type": "markdown",
   "metadata": {},
   "source": [
    "# Feature Engineering"
   ]
  },
  {
   "cell_type": "code",
   "execution_count": null,
   "metadata": {},
   "outputs": [],
   "source": [
    "import pandas as pd\n",
    "\n",
    "train_df = pd.read_csv('Data/train.csv')\n",
    "test_df = pd.read_csv('Data/test.csv')\n",
    "\n",
    "train_df.head()"
   ]
  },
  {
   "cell_type": "markdown",
   "metadata": {},
   "source": [
    "## Create New Features\n",
    "In this section, we will create new features to improve the model's performance and gain more insights from the data. We will create interaction features, polynomial features, and apply transformations to existing features."
   ]
  },
  {
   "cell_type": "code",
   "execution_count": null,
   "metadata": {},
   "outputs": [],
   "source": [
    "import numpy as np\n",
    "\n",
    "# Interaction Features\n",
    "train_df['Energy_Mood_Interaction'] = train_df['Energy'] * train_df['MoodScore']\n",
    "test_df['Energy_Mood_Interaction'] = test_df['Energy'] * test_df['MoodScore']\n",
    "\n",
    "train_df['Rhythm_Energy_Interaction'] = train_df['RhythmScore'] * train_df['Energy']\n",
    "test_df['Rhythm_Energy_Interaction'] = test_df['RhythmScore'] * test_df['Energy']\n",
    "\n",
    "train_df['Loudness_Energy_Interaction'] = train_df['AudioLoudness'] * train_df['Energy']\n",
    "test_df['Loudness_Energy_Interaction'] = test_df['AudioLoudness'] * test_df['Energy']\n",
    "\n",
    "train_df['Rhythm_Loudness_Interaction'] = train_df['RhythmScore'] * train_df['AudioLoudness']\n",
    "test_df['Rhythm_Loudness_Interaction'] = test_df['RhythmScore'] * test_df['AudioLoudness']\n",
    "\n",
    "# Polynomial Features\n",
    "train_df['Energy_sq'] = train_df['Energy']**2\n",
    "test_df['Energy_sq'] = test_df['Energy']**2\n",
    "\n",
    "train_df['MoodScore_sq'] = train_df['MoodScore']**2\n",
    "test_df['MoodScore_sq'] = test_df['MoodScore']**2\n",
    "\n",
    "train_df['RhythmScore_sq'] = train_df['RhythmScore']**2\n",
    "test_df['RhythmScore_sq'] = test_df['RhythmScore']**2\n",
    "\n",
    "train_df['AudioLoudness_sq'] = train_df['AudioLoudness']**2\n",
    "test_df['AudioLoudness_sq'] = test_df['AudioLoudness']**2\n",
    "\n",
    "# Feature Transformations\n",
    "train_df['TrackDurationMs_log'] = np.log1p(train_df['TrackDurationMs'])\n",
    "test_df['TrackDurationMs_log'] = np.log1p(test_df['TrackDurationMs'])\n",
    "\n",
    "# Ratio Features\n",
    "train_df['Vocal_Duration_Ratio'] = train_df['VocalContent'] / train_df['TrackDurationMs']\n",
    "test_df['Vocal_Duration_Ratio'] = test_df['VocalContent'] / test_df['TrackDurationMs']\n",
    "\n",
    "\n",
    "train_df.head()"
   ]
  },
  {
   "cell_type": "markdown",
   "metadata": {},
   "source": [
    "## Evaluate New Features\n",
    "In this section, we will evaluate the new features by analyzing their correlation with the target variable and their importance in a machine learning model."
   ]
  },
  {
   "cell_type": "code",
   "execution_count": null,
   "metadata": {},
   "outputs": [],
   "source": [
    "import matplotlib.pyplot as plt\n",
    "import seaborn as sns\n",
    "from sklearn.ensemble import RandomForestRegressor\n",
    "\n",
    "# Correlation Analysis\n",
    "plt.figure(figsize=(20, 15))\n",
    "correlation_matrix = train_df.corr()\n",
    "sns.heatmap(correlation_matrix, annot=False, cmap='coolwarm')\n",
    "plt.title('Correlation Matrix of All Features')\n",
    "plt.show()\n",
    "\n",
    "# Feature Importance Analysis\n",
    "X = train_df.drop(['id', 'BeatsPerMinute'], axis=1)\n",
    "y = train_df['BeatsPerMinute']\n",
    "\n",
    "# Handle potential infinite values from ratio features\n",
    "X.replace([np.inf, -np.inf], np.nan, inplace=True)\n",
    "X.fillna(0, inplace=True)\n",
    "\n",
    "\n",
    "model = RandomForestRegressor(n_estimators=100, random_state=42, n_jobs=-1)\n",
    "model.fit(X, y)\n",
    "\n",
    "feature_importances = pd.DataFrame({'feature': X.columns, 'importance': model.feature_importances_})\n",
    "feature_importances = feature_importances.sort_values('importance', ascending=False)\n",
    "\n",
    "plt.figure(figsize=(12, 10))\n",
    "sns.barplot(x='importance', y='feature', data=feature_importances)\n",
    "plt.title('Feature Importances')\n",
    "plt.show()"
   ]
  },
  {
   "cell_type": "markdown",
   "metadata": {},
   "source": [
    "## Conclusion\n",
    "In this notebook, we performed feature engineering to explore new relationships in the data and potentially improve model performance. We created several new features, including interaction terms, polynomial features, transformations, and ratios.\n",
    "\n",
    "The correlation matrix and feature importance plot provide insights into which of these new features are most promising. The `Loudness_Energy_Interaction` and `Rhythm_Loudness_Interaction` seem to have a noticeable correlation with the target variable. The feature importance plot also highlights some of the new features as being important for the model's predictions.\n",
    "\n",
    "These new features can now be used in a machine learning model to see if they improve the prediction of `BeatsPerMinute`. Further exploration could involve creating more complex features or using different techniques for feature selection."
   ]
  }
 ],
 "metadata": {
  "language_info": {
   "name": "python",
   "version": "3.12.11"
  }
 },
 "nbformat": 4,
 "nbformat_minor": 2
}
